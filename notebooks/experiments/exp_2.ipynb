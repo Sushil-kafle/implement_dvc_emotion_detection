{
 "cells": [
  {
   "cell_type": "code",
   "execution_count": null,
   "metadata": {},
   "outputs": [],
   "source": [
    "import mlflow\n",
    "\n",
    "\n",
    "from data_ingest import get_data"
   ]
  },
  {
   "cell_type": "code",
   "execution_count": null,
   "metadata": {},
   "outputs": [],
   "source": [
    "import pandas as pd\n",
    "\n",
    "\n",
    "train_df, test_df = get_data(\"parulpandey/emotion-dataset\")\n"
   ]
  },
  {
   "cell_type": "code",
   "execution_count": 3,
   "metadata": {},
   "outputs": [],
   "source": [
    "train_df = train_df[train_df[\"label\"].isin([1, 0])]\n",
    "test_df = test_df[test_df[\"label\"].isin([1, 0])]\n"
   ]
  },
  {
   "cell_type": "code",
   "execution_count": null,
   "metadata": {},
   "outputs": [],
   "source": [
    "from preprocess import normalized_sentence,remove_short_sentences"
   ]
  },
  {
   "cell_type": "code",
   "execution_count": null,
   "metadata": {},
   "outputs": [],
   "source": [
    "\n",
    "\n",
    "train_df[\"text\"] = train_df[\"text\"].apply(normalized_sentence)\n",
    "test_df[\"text\"] = test_df[\"text\"].apply(normalized_sentence)\n"
   ]
  },
  {
   "cell_type": "code",
   "execution_count": 5,
   "metadata": {},
   "outputs": [],
   "source": [
    "train_data = remove_short_sentences(train_df, \"text\", 4)\n",
    "test_data = remove_short_sentences(test_df, \"text\", 4)\n"
   ]
  },
  {
   "cell_type": "code",
   "execution_count": 6,
   "metadata": {},
   "outputs": [],
   "source": [
    "X_train = train_df[\"text\"]\n",
    "X_test = test_df[\"text\"]\n",
    "\n",
    "\n",
    "y_train = train_df[\"label\"]\n",
    "y_test = test_df[\"label\"]\n"
   ]
  },
  {
   "cell_type": "code",
   "execution_count": 7,
   "metadata": {},
   "outputs": [],
   "source": [
    "from sklearn.feature_extraction.text import CountVectorizer, TfidfVectorizer\n",
    "from sklearn.pipeline import Pipeline\n",
    "from sklearn.metrics import make_scorer, accuracy_score, precision_score, recall_score\n",
    "from sklearn.linear_model import LogisticRegression\n",
    "from sklearn.model_selection import GridSearchCV\n",
    "from sklearn.tree import DecisionTreeClassifier\n",
    "from sklearn.ensemble import RandomForestClassifier\n",
    "from sklearn.ensemble import GradientBoostingClassifier\n"
   ]
  },
  {
   "cell_type": "code",
   "execution_count": 8,
   "metadata": {},
   "outputs": [],
   "source": [
    "pipeline = Pipeline(\n",
    "    [(\"feature_transformer\", None),\n",
    "     \n",
    "      (\"model\", None)]\n",
    "\n",
    "\n",
    ")\n"
   ]
  },
  {
   "cell_type": "code",
   "execution_count": 9,
   "metadata": {},
   "outputs": [],
   "source": [
    "feature_transformer_settings = {\n",
    "    \"feature_transformer\": [CountVectorizer(), TfidfVectorizer()],\n",
    "    \"feature_transformer__max_features\": [ 1000],\n",
    "}"
   ]
  },
  {
   "cell_type": "code",
   "execution_count": 10,
   "metadata": {},
   "outputs": [],
   "source": [
    "param_grid = [\n",
    "    {\n",
    "        **feature_transformer_settings,\n",
    "        \"model\": [LogisticRegression(solver=\"liblinear\")],\n",
    "        \"model__penalty\": [\"l1\", \"l2\"],\n",
    "    },\n",
    "    {\n",
    "        **feature_transformer_settings,\n",
    "        \"model\": [DecisionTreeClassifier()],\n",
    "        \"model__max_depth\": [5, 10, 15],\n",
    "        \"model__min_samples_split\": [2, 5, 10],\n",
    "    },\n",
    "    {\n",
    "        **feature_transformer_settings,\n",
    "        \"model\": [RandomForestClassifier()],\n",
    "        \"model__n_estimators\": [50, 100,200],\n",
    "        \"model__max_depth\": [5, 10, 15],\n",
    "    },\n",
    "    {\n",
    "        **feature_transformer_settings,\n",
    "        \"model\": [GradientBoostingClassifier()],\n",
    "        \"model__n_estimators\": [50, 100, 200],\n",
    "        \"model__max_depth\": [2,3,5],\n",
    "    },\n",
    "]\n"
   ]
  },
  {
   "cell_type": "code",
   "execution_count": 11,
   "metadata": {},
   "outputs": [],
   "source": [
    "scoring = {\n",
    "    \"accuracy\": make_scorer(accuracy_score),\n",
    "    \"precision\": make_scorer(precision_score, average=\"weighted\"),\n",
    "    \"recall\": make_scorer(recall_score, average=\"weighted\"),\n",
    "}\n"
   ]
  },
  {
   "cell_type": "code",
   "execution_count": 12,
   "metadata": {},
   "outputs": [],
   "source": [
    "gs = GridSearchCV(\n",
    "    estimator=pipeline, param_grid=param_grid, scoring=scoring, refit=\"accuracy\"\n",
    ")\n"
   ]
  },
  {
   "cell_type": "code",
   "execution_count": null,
   "metadata": {},
   "outputs": [],
   "source": [
    "mlflow.set_tracking_uri(\"http://127.0.0.1:5000\")\n",
    "\n",
    "mlflow.sklearn.autolog(max_tuning_runs=None)\n",
    "mlflow.set_experiment(experiment_name=\"exp_second\")\n",
    "\n",
    "with mlflow.start_run():\n",
    "    gs.fit(\n",
    "        X_train,\n",
    "        y_train,\n",
    "    )\n"
   ]
  },
  {
   "cell_type": "code",
   "execution_count": 14,
   "metadata": {},
   "outputs": [
    {
     "data": {
      "text/plain": [
       "{'feature_transformer': TfidfVectorizer(),\n",
       " 'feature_transformer__max_features': 1000,\n",
       " 'model': LogisticRegression(solver='liblinear'),\n",
       " 'model__penalty': 'l1'}"
      ]
     },
     "execution_count": 14,
     "metadata": {},
     "output_type": "execute_result"
    }
   ],
   "source": [
    "gs.best_params_"
   ]
  }
 ],
 "metadata": {
  "kernelspec": {
   "display_name": "Python 3",
   "language": "python",
   "name": "python3"
  },
  "language_info": {
   "codemirror_mode": {
    "name": "ipython",
    "version": 3
   },
   "file_extension": ".py",
   "mimetype": "text/x-python",
   "name": "python",
   "nbconvert_exporter": "python",
   "pygments_lexer": "ipython3",
   "version": "3.11.5"
  }
 },
 "nbformat": 4,
 "nbformat_minor": 2
}
